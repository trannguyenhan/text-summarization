{
 "cells": [
  {
   "cell_type": "code",
   "execution_count": 1,
   "metadata": {},
   "outputs": [],
   "source": [
    "import pre_processing"
   ]
  },
  {
   "cell_type": "code",
   "execution_count": 2,
   "metadata": {},
   "outputs": [],
   "source": [
    "sentences = []"
   ]
  },
  {
   "cell_type": "code",
   "execution_count": 5,
   "metadata": {},
   "outputs": [
    {
     "data": {
      "text/plain": [
       "133318"
      ]
     },
     "execution_count": 5,
     "metadata": {},
     "output_type": "execute_result"
    }
   ],
   "source": [
    "def load_data():\n",
    "    texts = []\n",
    "    \n",
    "    data = open('./train.vi', 'r').read().split(\"\\n\")\n",
    "    for item in data: \n",
    "        item = pre_processing.text_preprocess(item)\n",
    "        texts.append([i for i in item.split(\" \") if i != \"\" and i != None])\n",
    "\n",
    "    return texts\n",
    "\n",
    "sentences = load_data()\n",
    "len(sentences)"
   ]
  },
  {
   "cell_type": "code",
   "execution_count": 4,
   "metadata": {},
   "outputs": [],
   "source": [
    "from gensim.models import Word2Vec"
   ]
  },
  {
   "cell_type": "code",
   "execution_count": 7,
   "metadata": {},
   "outputs": [
    {
     "name": "stdout",
     "output_type": "stream",
     "text": [
      "133318\n"
     ]
    }
   ],
   "source": [
    "print(len(sentences))"
   ]
  },
  {
   "cell_type": "code",
   "execution_count": 8,
   "metadata": {},
   "outputs": [],
   "source": [
    "import os\n",
    "\n",
    "if not os.path.exists('w2v.model'):\n",
    "    model = Word2Vec(sentences, vector_size=128, window=5, min_count=1, workers=4)\n",
    "    model.save('w2v.model')"
   ]
  },
  {
   "cell_type": "code",
   "execution_count": 5,
   "metadata": {},
   "outputs": [],
   "source": [
    "w2v_model = Word2Vec.load('w2v.model')"
   ]
  },
  {
   "cell_type": "code",
   "execution_count": 6,
   "metadata": {},
   "outputs": [
    {
     "data": {
      "text/plain": [
       "[('một_vài', 0.5693128108978271),\n",
       " ('1', 0.5509562492370605),\n",
       " ('đầu_tiên', 0.5344969630241394),\n",
       " ('đặc_biệt', 0.5232876539230347),\n",
       " ('một_số', 0.520016074180603),\n",
       " ('cuối_cùng', 0.4917910695075989),\n",
       " ('hai', 0.4760027527809143),\n",
       " ('ba', 0.47164207696914673),\n",
       " ('vài', 0.4486738443374634),\n",
       " ('biện_chứng_thực_tế', 0.4470289945602417)]"
      ]
     },
     "execution_count": 6,
     "metadata": {},
     "output_type": "execute_result"
    }
   ],
   "source": [
    "w2v_model.wv.similar_by_key(\"một\")"
   ]
  },
  {
   "cell_type": "code",
   "execution_count": 9,
   "metadata": {},
   "outputs": [
    {
     "data": {
      "text/plain": [
       "'ba'"
      ]
     },
     "execution_count": 9,
     "metadata": {},
     "output_type": "execute_result"
    }
   ],
   "source": [
    "w2v_model.wv.doesnt_match(['ô tô', 'xe máy', 'ba', 'xe tải'])"
   ]
  },
  {
   "cell_type": "code",
   "execution_count": 10,
   "metadata": {},
   "outputs": [
    {
     "data": {
      "text/plain": [
       "array([-0.9269766 , -0.19337186,  0.3380402 , -0.12683675,  2.0234678 ,\n",
       "       -0.01558207, -0.46428782, -0.35366777,  0.662215  , -0.32247657,\n",
       "        1.4297122 ,  0.87986374,  0.562214  , -1.2990259 , -0.20463166,\n",
       "       -0.22554326, -1.5695443 , -1.1748077 , -0.72796434, -0.12669185,\n",
       "        0.90394527,  0.02494074, -0.17954375,  0.08823132,  0.1241183 ,\n",
       "        0.18207479, -0.53206927, -0.33466092, -0.6739764 ,  0.3542324 ,\n",
       "       -0.83771986, -0.45875958,  0.59409803,  0.13639338,  1.1228976 ,\n",
       "       -0.72312164, -0.52964765, -0.51967174,  0.6878824 ,  2.0182245 ,\n",
       "        0.1618571 , -0.00301884, -1.1475208 ,  2.2633533 , -1.0699877 ,\n",
       "        1.4902931 ,  0.6529713 ,  1.7480465 ,  0.05899867, -2.4452746 ,\n",
       "        1.2440138 , -0.04833111, -0.78005576, -0.05814185, -0.35684133,\n",
       "       -0.5042427 ,  0.00316193, -0.97285765,  0.14275168,  0.1350034 ,\n",
       "       -0.20588987, -0.3556466 ,  0.34491098, -0.52405834, -0.3356998 ,\n",
       "       -0.1123457 , -0.5029337 ,  1.2736268 ,  0.40328708,  0.8425636 ,\n",
       "       -0.43443877, -0.5297643 , -0.64153373, -1.2234743 , -0.5101883 ,\n",
       "       -0.7294343 ,  1.5271776 , -1.033706  , -0.55415   ,  0.5447147 ,\n",
       "       -0.3914489 ,  0.22915958, -0.85522836,  0.7417308 , -0.6729559 ,\n",
       "        0.04741068, -0.25363246,  0.29702568, -0.21684562,  0.7384639 ,\n",
       "        0.74334455,  0.0497649 , -0.3134176 , -0.35539716,  0.84890234,\n",
       "        0.0643502 , -1.8373152 , -1.4628986 ,  0.01350557,  0.3229206 ,\n",
       "       -0.89036876,  0.68868756,  0.6490906 ,  0.2902576 , -1.7171445 ,\n",
       "       -0.20079108,  0.07906081, -1.5846105 ,  0.5585886 , -0.11030798,\n",
       "        0.2686314 ,  0.37869528,  0.46507087,  0.21791822,  0.6376785 ,\n",
       "        0.2167956 , -1.2245145 ,  0.2780237 , -0.20448315, -0.9183105 ,\n",
       "       -0.17237952,  0.4808662 ,  0.7818652 ,  0.6740468 ,  0.32398614,\n",
       "       -1.665755  , -1.5166763 , -0.35420176], dtype=float32)"
      ]
     },
     "execution_count": 10,
     "metadata": {},
     "output_type": "execute_result"
    }
   ],
   "source": [
    "w2v_model.wv['một']"
   ]
  }
 ],
 "metadata": {
  "kernelspec": {
   "display_name": "Python 3.8.10 64-bit",
   "language": "python",
   "name": "python3"
  },
  "language_info": {
   "codemirror_mode": {
    "name": "ipython",
    "version": 3
   },
   "file_extension": ".py",
   "mimetype": "text/x-python",
   "name": "python",
   "nbconvert_exporter": "python",
   "pygments_lexer": "ipython3",
   "version": "3.8.10"
  },
  "vscode": {
   "interpreter": {
    "hash": "916dbcbb3f70747c44a77c7bcd40155683ae19c65e1c03b4aa3499c5328201f1"
   }
  }
 },
 "nbformat": 4,
 "nbformat_minor": 2
}
