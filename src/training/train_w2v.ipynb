{
 "cells": [
  {
   "cell_type": "code",
   "execution_count": 1,
   "metadata": {},
   "outputs": [],
   "source": [
    "import pre_processing\n",
    "from gensim.models import Word2Vec"
   ]
  },
  {
   "cell_type": "code",
   "execution_count": 2,
   "metadata": {},
   "outputs": [],
   "source": [
    "sentences = []"
   ]
  },
  {
   "cell_type": "code",
   "execution_count": 3,
   "metadata": {},
   "outputs": [],
   "source": [
    "def load_data():\n",
    "    texts = []\n",
    "    \n",
    "    data = open('./train.vi', 'r').read().split(\"\\n\")\n",
    "    for item in data: \n",
    "        item = pre_processing.text_preprocess(item)\n",
    "        texts.append([i for i in item.split(\" \") if i != \"\" and i != None])\n",
    "\n",
    "    return texts"
   ]
  },
  {
   "cell_type": "code",
   "execution_count": 4,
   "metadata": {},
   "outputs": [
    {
     "name": "stdout",
     "output_type": "stream",
     "text": [
      "133318\n"
     ]
    }
   ],
   "source": [
    "import os\n",
    "\n",
    "if not os.path.exists('w2v.model'):\n",
    "    sentences = load_data()\n",
    "    print(len(sentences))\n",
    "    \n",
    "    model = Word2Vec(sentences, vector_size=128, window=5, min_count=1, workers=4)\n",
    "    model.save('w2v.model')"
   ]
  },
  {
   "cell_type": "code",
   "execution_count": 5,
   "metadata": {},
   "outputs": [],
   "source": [
    "w2v_model = Word2Vec.load('w2v.model')"
   ]
  },
  {
   "cell_type": "code",
   "execution_count": 7,
   "metadata": {},
   "outputs": [
    {
     "data": {
      "text/plain": [
       "[('này', 0.6002349853515625),\n",
       " ('đây', 0.5814575552940369),\n",
       " ('mà', 0.48678654432296753),\n",
       " ('thực_sự', 0.4782991111278534),\n",
       " ('sơ_suất', 0.4665382504463196),\n",
       " ('đặc_biệt', 0.44989508390426636),\n",
       " ('bất_cứ', 0.44608578085899353),\n",
       " ('nó', 0.44538140296936035),\n",
       " ('duy_nhất', 0.4451889991760254),\n",
       " ('cụ_thể', 0.4279213845729828)]"
      ]
     },
     "execution_count": 7,
     "metadata": {},
     "output_type": "execute_result"
    }
   ],
   "source": [
    "w2v_model.wv.similar_by_key(\"đó\")"
   ]
  },
  {
   "cell_type": "code",
   "execution_count": 8,
   "metadata": {},
   "outputs": [
    {
     "data": {
      "text/plain": [
       "'ba'"
      ]
     },
     "execution_count": 8,
     "metadata": {},
     "output_type": "execute_result"
    }
   ],
   "source": [
    "w2v_model.wv.doesnt_match(['ô tô', 'xe máy', 'ba', 'xe tải'])"
   ]
  },
  {
   "cell_type": "code",
   "execution_count": 9,
   "metadata": {},
   "outputs": [
    {
     "data": {
      "text/plain": [
       "array([ 1.0318041 ,  0.06972918, -1.324745  ,  0.43263695,  0.8329207 ,\n",
       "        1.0651044 , -0.9006955 ,  0.08016081, -1.6575754 ,  1.463121  ,\n",
       "        1.4865806 , -1.0759454 , -0.73947173,  1.7296529 ,  0.0394861 ,\n",
       "       -0.67472035, -1.0375137 , -1.4749064 , -2.2726421 ,  1.2052318 ,\n",
       "        0.13746794,  0.21870615,  0.11878616, -0.44868913, -2.1467078 ,\n",
       "        1.4239634 , -1.5193756 ,  0.73457354, -0.22427006,  0.01660309,\n",
       "       -0.5508389 ,  2.2676027 , -1.5561051 , -0.9997276 ,  0.26904726,\n",
       "       -0.7994264 ,  0.892143  ,  1.4403006 , -0.29140982,  0.56911886,\n",
       "        0.6330915 ,  0.35447976, -0.29228216,  0.07428872, -0.22931069,\n",
       "       -1.9923096 ,  0.11194032, -1.6026746 , -1.4434988 ,  0.9753436 ,\n",
       "       -0.56162256, -1.5072228 ,  1.3542566 ,  0.07703492,  0.27195302,\n",
       "       -0.02830612,  2.507334  ,  0.04271616,  1.0219144 , -0.246987  ,\n",
       "        0.82090664, -1.1297642 ,  1.467156  , -0.60310924, -0.7273768 ,\n",
       "        0.11562775, -0.2173952 ,  0.09400824, -0.60936433, -1.6738306 ,\n",
       "        1.0691671 , -0.13922712,  0.7122314 ,  0.6858042 , -0.36785358,\n",
       "        1.1275649 , -0.3146244 , -0.16426606,  1.2644304 , -0.30349728,\n",
       "       -0.82586604, -0.9675514 ,  0.09612947, -1.5460478 , -2.689054  ,\n",
       "        0.7181955 ,  0.28819618,  0.51428515, -0.59470844,  1.0222747 ,\n",
       "       -0.29484028, -0.5118542 , -1.1298423 ,  0.48998055, -1.497744  ,\n",
       "       -0.23198174, -1.3454133 , -1.1995121 , -0.26298288,  0.6570712 ,\n",
       "       -0.2780028 ,  0.48667225,  0.39280653, -0.3664225 , -0.25937623,\n",
       "        1.5520267 , -0.04268134, -1.8754224 ,  0.64186597, -0.1304777 ,\n",
       "        0.50526994,  0.04476634, -0.18058811, -1.5935608 ,  0.7190646 ,\n",
       "        0.384675  , -1.0008932 ,  1.1781204 ,  0.09097344,  1.3069829 ,\n",
       "       -0.26243398,  2.256885  , -0.12816808,  0.10890964,  1.291679  ,\n",
       "        0.16837768,  0.55556333,  1.287263  ], dtype=float32)"
      ]
     },
     "execution_count": 9,
     "metadata": {},
     "output_type": "execute_result"
    }
   ],
   "source": [
    "w2v_model.wv['một']"
   ]
  }
 ],
 "metadata": {
  "kernelspec": {
   "display_name": "Python 3.8.10 64-bit",
   "language": "python",
   "name": "python3"
  },
  "language_info": {
   "codemirror_mode": {
    "name": "ipython",
    "version": 3
   },
   "file_extension": ".py",
   "mimetype": "text/x-python",
   "name": "python",
   "nbconvert_exporter": "python",
   "pygments_lexer": "ipython3",
   "version": "3.8.10"
  },
  "vscode": {
   "interpreter": {
    "hash": "916dbcbb3f70747c44a77c7bcd40155683ae19c65e1c03b4aa3499c5328201f1"
   }
  }
 },
 "nbformat": 4,
 "nbformat_minor": 2
}
