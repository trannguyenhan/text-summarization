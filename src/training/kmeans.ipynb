{
 "cells": [
  {
   "cell_type": "code",
   "execution_count": 14,
   "metadata": {},
   "outputs": [],
   "source": [
    "from gensim.models import Word2Vec"
   ]
  },
  {
   "cell_type": "code",
   "execution_count": 15,
   "metadata": {},
   "outputs": [
    {
     "name": "stdout",
     "output_type": "stream",
     "text": [
      "K-Means\n",
      "34298\n"
     ]
    }
   ],
   "source": [
    "print(\"K-Means\")\n",
    "\n",
    "w2v_model = Word2Vec.load('w2v.model')\n",
    "\n",
    "vocabulary = []\n",
    "for word in w2v_model.wv.key_to_index:\n",
    "    vocabulary.append(word)\n",
    "print(len(vocabulary))"
   ]
  },
  {
   "cell_type": "code",
   "execution_count": 16,
   "metadata": {},
   "outputs": [],
   "source": [
    "import pre_processing\n",
    "import nltk"
   ]
  },
  {
   "cell_type": "code",
   "execution_count": 17,
   "metadata": {},
   "outputs": [
    {
     "name": "stderr",
     "output_type": "stream",
     "text": [
      "[nltk_data] Downloading package punkt to\n",
      "[nltk_data]     /home/trannguyenhan/nltk_data...\n",
      "[nltk_data]   Package punkt is already up-to-date!\n"
     ]
    },
    {
     "data": {
      "text/plain": [
       "True"
      ]
     },
     "execution_count": 17,
     "metadata": {},
     "output_type": "execute_result"
    }
   ],
   "source": [
    "nltk.download('punkt')"
   ]
  },
  {
   "cell_type": "code",
   "execution_count": 18,
   "metadata": {},
   "outputs": [],
   "source": [
    "content = \"\"\"\n",
    "Trump cáo buộc đảng Dân chủ đang theo đuổi \"nỗ lực đảo chính bất hợp pháp, mang tính đảng phái\" khi tìm cách luận tội ông.\n",
    "\n",
    "\"Chính các người mới là phe can thiệp vào bầu cử Mỹ, phá vỡ nền dân chủ của đất nước và cản trở công lý. Điều này không là gì khác ngoài một nỗ lực đảo chính bất hợp pháp, mang tính đảng phái và sẽ thất bại nặng nề tại hòm phiếu, dựa trên tình hình gần đây\", Tổng thống Mỹ Donald Trump viết trong lá thư dài 6 trang gửi Chủ tịch Hạ viện Nancy Pelosi vào hôm qua để chỉ trích cuộc điều tra luận tội của phe Dân chủ. \n",
    "\n",
    "Ông chủ Nhà Trắng viết thêm rằng bà Pelosi \"đang biến hạ viện từ cơ quan lập pháp được kính trọng thành một phòng xử án của cuộc đàn áp đảng phái\", đồng thời \"gần như không thèm che giấu sự thù ghét\" đối với ông. \n",
    "\n",
    "\"Bằng cách thúc đẩy cuộc luận tội trái phép đó, các người đang vi phạm lời thề nhậm chức, phá vỡ lòng trung thành với hiến pháp và tuyên chiến với nền dân chủ Mỹ. Các người coi dân chủ là kẻ thù của chính mình\", Trump viết.\n",
    "Bức thư của Trump được gửi đi trong bối cảnh hạ viện, nơi đảng Dân chủ chiếm đa số, dự kiến bỏ phiếu vào hôm nay về các điều khoản luận tội Tổng thống Mỹ và khả năng cao sẽ thông qua để đưa Trump ra xét xử tại thượng viện. Ông gần như chắc chắn sẽ trở thành tổng thống Mỹ thứ ba trong lịch sử bị luận tội. \n",
    "\n",
    "Trước đó, Ủy ban Tư pháp Hạ viện đã thông qua hai điều khoản luận tội Trump, bao gồm lạm dụng quyền lực và cản trở quốc hội. Phe Dân chủ cáo buộc Trump thúc ép Ukraine điều tra cha con cựu phó tổng thống Mỹ Joe Biden, đối thủ của Trump trong cuộc bầu cử năm 2020, gây nguy hiểm cho hiến pháp Mỹ, an ninh quốc gia và tính công bằng của bầu cử. \n",
    "\n",
    "Trong khi đó, đảng Cộng hòa vẫn cố gắng bảo vệ Trump, khi lãnh đạo phe đa số tại thượng viện Mitch McConnell bác bỏ yêu cầu của đảng Dân chủ nhằm đề nghị 4 quan chức cũ và đương nhiệm ra làm chứng tại phiên tòa luận tội dự kiến diễn ra ở thượng viện vào tháng tới. \n",
    "\n",
    "Hạ viện Mỹ mở cuộc điều tra luận tội Trump từ tháng 9, sau khi một người tố giác giấu tên đệ đơn cáo buộc Tổng thống Mỹ dùng gói viện trợ quân sự để gây áp lực lên người đồng cấp Ukraine Volodymyr Zelensky. Tuy nhiên, Trump phủ nhận các cáo buộc và gọi cuộc điều tra luận tội là trò lừa bịp.\n",
    "\"\"\""
   ]
  },
  {
   "cell_type": "code",
   "execution_count": 19,
   "metadata": {},
   "outputs": [
    {
     "name": "stdout",
     "output_type": "stream",
     "text": [
      "Number of element: 13\n",
      "K-Means Clustering\n",
      "\n",
      "Cụm 1\n",
      "[3]\n",
      "Thứ tự trung bình:  3.0\n",
      "===================================================================================================================\n",
      "Cụm 2\n",
      "[ 2  6 10]\n",
      "Thứ tự trung bình:  6.0\n",
      "===================================================================================================================\n",
      "Cụm 3\n",
      "[ 0  1  4  5  7  8  9 11 12]\n",
      "Thứ tự trung bình:  6.33\n",
      "===================================================================================================================\n",
      "Các câu gần 3 tâm cụm nhất [3 6 8]\n",
      "\n",
      "Kết quả tóm tắt:\n",
      "\n",
      "ông chủ nhà trắng viết thêm rằng bà pelosi \" đang biến hạ_viện từ cơ_quan lập_pháp được kính_trọng thành một phòng xử án của cuộc đàn_áp đảng phaí \" , đồng_thời \" gần như_không thèm che_giấu sự thù_ghét \" đối_với ông . \" bức thư của trump được gửi đi trong bối_cảnh hạ_viện , nơi đảng dân_chủ chiếm đa_số , dự_kiến bỏ_phiếu vào hôm_nay về các điều_khoản luận_tội tổng_thống mỹ và khả_năng cao sẽ thông_qua để đưa trump ra xét_xử tại thượng_viện . trước đó , ủy_ban tư_pháp hạ_viện đã thông_qua hai điều_khoản luận_tội trump , bao_gồm lạm_dụng quyền_lực và cản_trở_quốc hôị .\n"
     ]
    }
   ],
   "source": [
    "import numpy as np \n",
    "import nltk\n",
    "from sklearn.cluster import KMeans\n",
    "from sklearn.metrics import pairwise_distances_argmin_min\n",
    "\n",
    "n_clusters = 3\n",
    "def k_means(sentences):\n",
    "    # read root sentences and normalize sentences\n",
    "    contents_parsed = pre_processing.text_preprocess(content)\n",
    "    sentences = nltk.sent_tokenize(contents_parsed)\n",
    "\n",
    "    X = []\n",
    "    for sentence in sentences:\n",
    "        words = sentence.split(\" \")\n",
    "        sentence_vec = np.zeros((128))\n",
    "        \n",
    "        for word in words:\n",
    "            if word in vocabulary:\n",
    "                sentence_vec+=w2v_model.wv[word]\n",
    "\n",
    "        X.append(sentence_vec)\n",
    "\n",
    "    print(\"Number of element: \" + str(len(X)))\n",
    "\n",
    "    kmeans = KMeans(n_clusters=n_clusters)\n",
    "    kmeans = kmeans.fit(X)\n",
    "\n",
    "    print(\"K-Means Clustering\\n\")\n",
    "    avg = []\n",
    "    for j in range(n_clusters):\n",
    "        print(\"Cụm\", j+1)\n",
    "        idx = np.where(kmeans.labels_ == j)[0]\n",
    "        print(idx)\n",
    "        avg.append(np.mean(idx))\n",
    "        print(\"Thứ tự trung bình: \", round(np.mean(idx), 2))\n",
    "        print(\"=\"*115)\n",
    "\n",
    "    closest, _ = pairwise_distances_argmin_min(kmeans.cluster_centers_, X)\n",
    "\n",
    "    print(\"Các câu gần\", n_clusters, \"tâm cụm nhất\",closest)\n",
    "    ordering = sorted(range(n_clusters), key=lambda k: avg[k])\n",
    "\n",
    "    print(\"\\nKết quả tóm tắt:\\n\")\n",
    "    \n",
    "    # summary = ' '.join([\"(Câu \" + str(closest[idx]) + \") \" + sentences[closest[idx]] for idx in ordering])\n",
    "    summary = ' '.join([sentences[closest[idx]] for idx in ordering])\n",
    "    print(summary)\n",
    "\n",
    "k_means(content)"
   ]
  },
  {
   "cell_type": "code",
   "execution_count": 20,
   "metadata": {},
   "outputs": [],
   "source": [
    "content = \"Thụy Hương 308 giúp nâng cao thu nhập cho bà con nông dânTheo Cục Trồng trọt (Bộ NNPTNT), sản xuất vụ Xuân 2022 gặp nhiều khó khăn do giá phân bón ở mức rất cao (một số loại phân bón nhập khẩu tăng 80-100%) đã ảnh hưởng đến đầu tư cho sản xuất lúa.Bên cạnh đó, thời tiết bất thường, nền nhiệt độ trung bình vụ thấp hơn trung bình những năm gần đây; mưa lớn gây ngập lụt, ngã đổ nhiều diện tích lúa.Theo đó, các tỉnh Bắc Trung Bộ có năng suất trung bình đạt 61,3 tạ/ha, giảm 4,1 tạ/ha so với năm trước; các tỉnh đồng bằng sông Hồng đạt 65,8 tạ/ha, giảm 0,8 tạ/ha; các tỉnh Trung du miền núi phía Bắc đạt 58,5 tạ/ha, giảm 0,3 tạ/ha.Tuy nhiên, tại Hội nghị đánh giá kết quả mô hình gieo cấy giống lúa Thụy Hương 308, Trung tâm Trung tâm dịch vụ nông nghiệp (DVNN) huyện Chiêm Hóa cho biết dự kiến năng suất thực thu giống lúa lai 3 dòng Thụy Hương 308 đạt khoảng 73,4 tạ/ha cao hơn đối chứng 4,3 tạ/ha.Đại diện cho 8 hộ trên địa bàn thôn Pá Tao (xã Hoà An) gieo cấy giống lúa Thụy Hương 308, chị Hà Thị Hòa vui mừng cho hay, sau khi trừ các khoản chi phí phân bón, ngày công… chúng tôi đã lãi được 20 triệu đồng/ha, cao hơn rất nhiều so với nhiều giống lúa khác.Giống lúa Thụy Hương 308 có kiểu cây gọn, lá đứng dạng lòng mo, đẻ nhánh khỏe, chịu thâm canh, số bông hữu hiệu/khóm cao, đây là những yếu tố cấu thành nên sự vượt trội về năng suất của giống.Đặc biệt, chất lượng cơm gạo Thụy Hương 308 rất ngon, hạt thon dài, tỷ lệ gạo cao > 70%, cơm dẻo nên được thương lái ưa chuộng.\\\"Với năng suất cao, chất lượng gạo tốt, giá bán ổn định, vụ tới chúng tôi nhất định sẽ tiếp tục gieo cấy giống lúa Thuỵ Hương 308 này để nâng cao thu nhập cho gia đình\\\" – Chị Hoà khẳng địnhGiống lúa lai 3 dòng F1 Thụy Hương 308 do Vinaseed lai tạo và sở hữu bản quyền sản xuất kinh doanh được Bộ NN&PTNT công nhận lưu hành đưa vào sản xuất từ năm 2016Không chỉ cho năng suất cao, chất lượng gạo ngon, mà Thuỵ Hương 308 còn có chiều cao cây trung bình nên chống đổ tốt, thích ứng rộng, thời gian sinh trưởng ngắn ngày, rất phù hợp cho sản xuất cây vụ đông trên đất ruộng 2 vụ lúa, đặc biệt là sản xuất cây ngô sinh khối.Trò chuyện với phóng viên ngay tại cánh đồng lúa Thụy Hương 308, ông Hà Công Kim, (xã Hòa An, huyện Chiêm Hóa, Tuyên Quang) chia sẻ: Qua thực tế sản xuất cho thấy giống lúa Thuỵ Hương 308 chống chịu rất tốt với một số loại sâu bệnh hại chính, nhất là bệnh đạo ôn và rầy nâu ở giai đoạn cuối vụ nên đã hạn chế được việc sử dụng thuốc bảo vệ thực vật.Minh chứng cho điều mình vừa nói, ông Kim cho biết thêm, với cùng diện tích sản xuất 1.000m2, nhưng giống đối chứng bà con nông dân phải chi đến 100.000 đồng cho việc mua thuốc bảo vệ thực vật để phòng trừ sâu bệnh, còn với giống Thụy Hương 308 thì chỉ mất có 60.000 đồng, giảm gần một nửa.Nhằm giảm chi phí sản xuất trong nông nghiệp, nâng cao thu nhập cho bà con nông dân, thời gian qua Vinaseed đã phối hợp phòng NN&PTNT các địa phương triển khai nhiều mô hình trình diễn các giống lúa mới có năng suất, chất lượng cao như Thụy Hương 308, VNR20, VNR10, Hương Châu 6…Ông Trần Quốc Toản, Phó Giám đốc Vinaseed chi nhánh Ba Vì chia sẻ: Chúng tôi không chỉ thực hiện mô hình giống lúa Thụy Hương 308 trên địa bàn tỉnh Tuyên Quang mà còn triển khai ở tất cả các vùng miền trên cả nước. Đến nay có thể khẳng định các giống lúa của Vinaseed nói chung, giống lúa lai Thụy Hương 308 nói riêng đã có sự thích ứng rộng, phù hợp với cơ cấu gieo trồng của nhiều địa phương.Việc đưa giống lúa mới Thụy Hương 308 vào sản xuất không chỉ thay thế các giống gieo cấy đại trà năng suất thấp, nhiễm nhiều sâu bệnh, thời gian sinh trưởng dài…. để nâng cao giá trị sản xuất cho bà con nông dân, mà còn góp phần vào mục tiêu sản xuất nông nghiệp hàng hóa chất lượng mà các địa phương đang hướng tới.\""
   ]
  },
  {
   "cell_type": "code",
   "execution_count": 21,
   "metadata": {},
   "outputs": [
    {
     "data": {
      "text/plain": [
       "'Thụy Hương 308 giúp nâng cao thu nhập cho bà con nông dânTheo Cục Trồng trọt ( Bộ NNPTNT ) , sản xuất vụ Xuân 2022 gặp nhiều khó khăn do giá phân bón ở mức rất cao ( một số loại phân bón nhập khẩu tăng 80 - 100 % ) đã ảnh hưởng đến đầu tư cho sản xuất lúa . Bên cạnh đó , thời tiết bất thường , nền nhiệt độ trung bình vụ thấp hơn trung bình những năm gần đây ; mưa lớn gây ngập lụt , ngã đổ nhiều diện tích lúa . Theo đó , các tỉnh Bắc Trung Bộ có năng suất trung bình đạt 61,3 tạ / ha , giảm 4,1 tạ / ha so với năm trước ; các tỉnh đồng bằng sông Hồng đạt 65,8 tạ / ha , giảm 0,8 tạ / ha ; các tỉnh Trung du miền núi phía Bắc đạt 58,5 tạ / ha , giảm 0,3 tạ / ha . Tuy nhiên , tại Hội nghị đánh giá kết quả mô hình gieo cấy giống lúa Thụy Hương 308 , Trung tâm Trung tâm dịch vụ nông nghiệp ( DVNN ) huyện Chiêm Hóa cho biết dự kiến năng suất thực thu giống lúa lai 3 dòng Thụy Hương 308 đạt khoảng 73,4 tạ / ha cao hơn đối chứng 4,3 tạ / ha . Đại diện cho 8 hộ trên địa bàn thôn Pá Tao ( xã Hoà An ) gieo cấy giống lúa Thụy Hương 308 , chị Hà Thị Hòa vui mừng cho hay , sau khi trừ các khoản chi phí phân bón , ngày công … chúng tôi đã lãi được 20 triệu đồng / ha , cao hơn rất nhiều so với nhiều giống lúa khác . Giống lúa Thụy Hương 308 có kiểu cây gọn , lá đứng dạng lòng mo , đẻ nhánh khỏe , chịu thâm canh , số bông hữu hiệu / khóm cao , đây là những yếu tố cấu thành nên sự vượt trội về năng suất của giống . Đặc biệt , chất lượng cơm gạo Thụy Hương 308 rất ngon , hạt thon dài , tỷ lệ gạo cao > 70 % , cơm dẻo nên được thương lái ưa chuộng . \" Với năng suất cao , chất lượng gạo tốt , giá bán ổn định , vụ tới chúng tôi nhất định sẽ tiếp tục gieo cấy giống lúa Thuỵ Hương 308 này để nâng cao thu nhập cho gia đình \" – Chị Hoà khẳng địnhGiống lúa lai 3 dòng F1 Thụy Hương 308 do Vinaseed lai tạo và sở hữu bản quyền sản xuất kinh doanh được Bộ NN & PTNT công nhận lưu hành đưa vào sản xuất từ năm 2016Không chỉ cho năng suất cao , chất lượng gạo ngon , mà Thuỵ Hương 308 còn có chiều cao cây trung bình nên chống đổ tốt , thích ứng rộng , thời gian sinh trưởng ngắn ngày , rất phù hợp cho sản xuất cây vụ đông trên đất ruộng 2 vụ lúa , đặc biệt là sản xuất cây ngô sinh khối . Trò chuyện với phóng viên ngay tại cánh đồng lúa Thụy Hương 308 , ông Hà Công Kim , ( xã Hòa An , huyện Chiêm Hóa , Tuyên Quang ) chia sẻ : Qua thực tế sản xuất cho thấy giống lúa Thuỵ Hương 308 chống chịu rất tốt với một số loại sâu bệnh hại chính , nhất là bệnh đạo ôn và rầy nâu ở giai đoạn cuối vụ nên đã hạn chế được việc sử dụng thuốc bảo vệ thực vật . Minh chứng cho điều mình vừa nói , ông Kim cho biết thêm , với cùng diện tích sản xuất 1.000 m2 , nhưng giống đối chứng bà con nông dân phải chi đến 100.000 đồng cho việc mua thuốc bảo vệ thực vật để phòng trừ sâu bệnh , còn với giống Thụy Hương 308 thì chỉ mất có 60.000 đồng , giảm gần một nửa . Nhằm giảm chi phí sản xuất trong nông nghiệp , nâng cao thu nhập cho bà con nông dân , thời gian qua Vinaseed đã phối hợp phòng NN & PTNT các địa phương triển khai nhiều mô hình trình diễn các giống lúa mới có năng suất , chất lượng cao như Thụy Hương 308 , VNR20 , VNR10 , Hương Châu 6 … Ông Trần Quốc Toản , Phó Giám đốc Vinaseed chi nhánh Ba Vì chia sẻ : Chúng tôi không chỉ thực hiện mô hình giống lúa Thụy Hương 308 trên địa bàn tỉnh Tuyên Quang mà còn triển khai ở tất cả các vùng miền trên cả nước . Đến nay có thể khẳng định các giống lúa của Vinaseed nói chung , giống lúa lai Thụy Hương 308 nói riêng đã có sự thích ứng rộng , phù hợp với cơ cấu gieo trồng của nhiều địa phương . Việc đưa giống lúa mới Thụy Hương 308 vào sản xuất không chỉ thay thế các giống gieo cấy đại trà năng suất thấp , nhiễm nhiều sâu bệnh , thời gian sinh trưởng dài … . để nâng cao giá trị sản xuất cho bà con nông dân , mà còn góp phần vào mục tiêu sản xuất nông nghiệp hàng hóa chất lượng mà các địa phương đang hướng tới .'"
      ]
     },
     "execution_count": 21,
     "metadata": {},
     "output_type": "execute_result"
    }
   ],
   "source": [
    "from pyvi import ViTokenizer\n",
    "\n",
    "text, tmp = ViTokenizer.ViTokenizer.sylabelize(content)\n",
    "result = tmp[0]\n",
    "for i in range(1, len(tmp)):\n",
    "    result = result + \" \" + tmp[i]\n",
    "result"
   ]
  }
 ],
 "metadata": {
  "kernelspec": {
   "display_name": "Python 3.8.10 ('env': venv)",
   "language": "python",
   "name": "python3"
  },
  "language_info": {
   "codemirror_mode": {
    "name": "ipython",
    "version": 3
   },
   "file_extension": ".py",
   "mimetype": "text/x-python",
   "name": "python",
   "nbconvert_exporter": "python",
   "pygments_lexer": "ipython3",
   "version": "3.8.10"
  },
  "vscode": {
   "interpreter": {
    "hash": "6ee88ab08f9fd2e7be037581d0b0461d273781303e079e343177b1f777e5d9f6"
   }
  }
 },
 "nbformat": 4,
 "nbformat_minor": 2
}
