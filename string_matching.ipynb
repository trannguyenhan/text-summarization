{
 "cells": [
  {
   "cell_type": "code",
   "execution_count": 1,
   "metadata": {},
   "outputs": [],
   "source": [
    "import py_stringmatching as sm"
   ]
  },
  {
   "cell_type": "code",
   "execution_count": 11,
   "metadata": {},
   "outputs": [
    {
     "data": {
      "text/plain": [
       "['##H',\n",
       " '#He',\n",
       " 'Hel',\n",
       " 'ell',\n",
       " 'llo',\n",
       " 'lo ',\n",
       " 'o W',\n",
       " ' Wo',\n",
       " 'Wor',\n",
       " 'orl',\n",
       " 'rld',\n",
       " 'ld$',\n",
       " 'd$$']"
      ]
     },
     "execution_count": 11,
     "metadata": {},
     "output_type": "execute_result"
    }
   ],
   "source": [
    "tokenize = sm.QgramTokenizer(qval=3)\n",
    "tokenize.tokenize(\"Hello World\")"
   ]
  },
  {
   "cell_type": "code",
   "execution_count": 14,
   "metadata": {},
   "outputs": [],
   "source": [
    "input1 = \"So với cùng kỳ năm 2021, số ca mắc sốt xuất huyết Dengue tăng 148%, TỬ VONG tăng 25 trường hợp\"\n",
    "input2 = \"So với cùng kỳ năm 2021, TỬ VONG tăng 25 trường hợp, số ca mắc sốt xuất huyết Dengue tăng 148%\""
   ]
  },
  {
   "cell_type": "code",
   "execution_count": 15,
   "metadata": {},
   "outputs": [
    {
     "data": {
      "text/plain": [
       "0.9139784946236559"
      ]
     },
     "execution_count": 15,
     "metadata": {},
     "output_type": "execute_result"
    }
   ],
   "source": [
    "sm.Jaccard().get_sim_score(tokenize.tokenize(input1), tokenize.tokenize(input2))"
   ]
  }
 ],
 "metadata": {
  "kernelspec": {
   "display_name": "Python 3.8.10 ('env': venv)",
   "language": "python",
   "name": "python3"
  },
  "language_info": {
   "codemirror_mode": {
    "name": "ipython",
    "version": 3
   },
   "file_extension": ".py",
   "mimetype": "text/x-python",
   "name": "python",
   "nbconvert_exporter": "python",
   "pygments_lexer": "ipython3",
   "version": "3.8.10"
  },
  "orig_nbformat": 4,
  "vscode": {
   "interpreter": {
    "hash": "6ee88ab08f9fd2e7be037581d0b0461d273781303e079e343177b1f777e5d9f6"
   }
  }
 },
 "nbformat": 4,
 "nbformat_minor": 2
}
